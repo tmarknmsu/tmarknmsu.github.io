{
 "cells": [
  {
   "cell_type": "code",
   "execution_count": 47,
   "metadata": {},
   "outputs": [
    {
     "name": "stdout",
     "output_type": "stream",
     "text": [
      "birthYear =  1985\n",
      "age =  37\n",
      "adult\n"
     ]
    }
   ],
   "source": [
    "import datetime\n",
    "birthYear = input('Enter birth year:')\n",
    "birthYear = int(birthYear)\n",
    "\n",
    "# ages = [8,10,25,32,65]\n",
    "# print(ages[1])\n",
    "\n",
    "def ageCheck(birthYear):\n",
    "    today = datetime.date.today()\n",
    "    print('birthYear = ',birthYear)\n",
    "    currentYear = today.year\n",
    "    # print(currentYear)\n",
    "    age = currentYear - birthYear\n",
    "    print('age = ',age)\n",
    "\n",
    "    if age<=12:\n",
    "        print('child')\n",
    "    elif age > 12 and age <= 18:\n",
    "        print('teenager')\n",
    "    elif age >18 and age <=30:\n",
    "        print('young adult')\n",
    "    elif age > 30 and age <=60:\n",
    "        print('adult')\n",
    "    else:\n",
    "        print('senior age')\n",
    "    \n",
    "\n",
    "ageCheck(birthYear)\n",
    "\n",
    "\n",
    "\n",
    "\n"
   ]
  },
  {
   "cell_type": "code",
   "execution_count": 49,
   "metadata": {},
   "outputs": [
    {
     "ename": "SyntaxError",
     "evalue": "invalid syntax (657410471.py, line 12)",
     "output_type": "error",
     "traceback": [
      "\u001b[1;36m  Cell \u001b[1;32mIn [49], line 12\u001b[1;36m\u001b[0m\n\u001b[1;33m    i++\u001b[0m\n\u001b[1;37m       ^\u001b[0m\n\u001b[1;31mSyntaxError\u001b[0m\u001b[1;31m:\u001b[0m invalid syntax\n"
     ]
    }
   ],
   "source": [
    "birthYears = [2000,2010,1990,1985,1945]\n",
    "\n",
    "i = 0\n",
    "length = len(birthYears)-1\n",
    "\n",
    "print(length)\n",
    "\n",
    "while i <= length:\n",
    "    # print('year born = ',birthYears[i])\n",
    "    \n",
    "    ageCheck(birthYears[i])\n",
    "    i+=1\n"
   ]
  },
  {
   "cell_type": "code",
   "execution_count": null,
   "metadata": {},
   "outputs": [],
   "source": []
  },
  {
   "cell_type": "code",
   "execution_count": null,
   "metadata": {},
   "outputs": [],
   "source": []
  }
 ],
 "metadata": {
  "kernelspec": {
   "display_name": "Python 3.10.8 64-bit",
   "language": "python",
   "name": "python3"
  },
  "language_info": {
   "codemirror_mode": {
    "name": "ipython",
    "version": 3
   },
   "file_extension": ".py",
   "mimetype": "text/x-python",
   "name": "python",
   "nbconvert_exporter": "python",
   "pygments_lexer": "ipython3",
   "version": "3.10.8"
  },
  "orig_nbformat": 4,
  "vscode": {
   "interpreter": {
    "hash": "369f2c481f4da34e4445cda3fffd2e751bd1c4d706f27375911949ba6bb62e1c"
   }
  }
 },
 "nbformat": 4,
 "nbformat_minor": 2
}
